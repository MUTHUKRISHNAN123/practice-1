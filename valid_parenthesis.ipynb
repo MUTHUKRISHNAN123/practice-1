{
  "nbformat": 4,
  "nbformat_minor": 0,
  "metadata": {
    "colab": {
      "provenance": [],
      "authorship_tag": "ABX9TyMW1coLEiDYskbyFxl07JBA",
      "include_colab_link": true
    },
    "kernelspec": {
      "name": "python3",
      "display_name": "Python 3"
    },
    "language_info": {
      "name": "python"
    }
  },
  "cells": [
    {
      "cell_type": "markdown",
      "metadata": {
        "id": "view-in-github",
        "colab_type": "text"
      },
      "source": [
        "<a href=\"https://colab.research.google.com/github/MUTHUKRISHNAN123/practice-1/blob/main/valid_parenthesis.ipynb\" target=\"_parent\"><img src=\"https://colab.research.google.com/assets/colab-badge.svg\" alt=\"Open In Colab\"/></a>"
      ]
    },
    {
      "cell_type": "markdown",
      "source": [
        "Given a string s containing just the characters '(', ')', '{', '}', '[' and ']', determine if the input string is valid.\n",
        "\n",
        "An input string is valid if:\n",
        "\n",
        "Open brackets must be closed by the same type of brackets.\n",
        "Open brackets must be closed in the correct order.\n",
        "Every close bracket has a corresponding open bracket of the same type."
      ],
      "metadata": {
        "id": "JIjO7BtAPrev"
      }
    },
    {
      "cell_type": "code",
      "source": [
        "s=\"()[]{}\"\n",
        "a=[]\n",
        "for i in s:\n",
        "  if i in ['(','{','[']:\n",
        "    a.append(i)\n",
        "  elif i==')' and len(a)!=0 and a[-1]=='(':\n",
        "    a.pop()\n",
        "  elif i==']' and len(a)!=0 and a[-1]=='[':\n",
        "    a.pop()\n",
        "  elif i=='}' and len(a)!=0 and a[-1]=='{':\n",
        "    a.pop()\n",
        "  else:\n",
        "    print(\"false\")\n",
        "if not a:\n",
        "  print(\"true\")"
      ],
      "metadata": {
        "colab": {
          "base_uri": "https://localhost:8080/"
        },
        "id": "-Zr7PT1fPu7m",
        "outputId": "341ad445-f408-4ba2-f3d4-5fe134f8d4f7"
      },
      "execution_count": 1,
      "outputs": [
        {
          "output_type": "stream",
          "name": "stdout",
          "text": [
            "true\n"
          ]
        }
      ]
    },
    {
      "cell_type": "code",
      "source": [
        "s = \"([)]{}\"\n",
        "dict={')':'(',']':'[','}':'{'}\n",
        "\n",
        "a=[]\n",
        "b=[]\n",
        "for i,j in dict.items():\n",
        "    for x in range(len(s)):\n",
        "        if s[x] in j:\n",
        "            a.append(j)\n",
        "              \n",
        "        elif s[x] in i:\n",
        "                b.append(dict[s[x]])\n",
        "                if b[0]==a[-1]:\n",
        "                    b.remove(a[-1])\n",
        "                    a.pop() \n",
        "                    print(a)\n",
        "                    print(b)\n",
        "\n",
        "# #                 a.pop()\n",
        "# #             else:\n",
        "# #                 print(\"false\")\n",
        "# # # for i,j in dict.items():\n",
        "# # #     for x in range(len(s)):\n",
        "# # #         if s[x] in i:\n",
        "# # #             if dict[s[x]]==a[-1]:\n",
        "# # #                 a.remove(dict[s[x]])\n",
        "if not a:\n",
        "    print(\"true\")\n",
        "else:\n",
        "    print(\"false\")"
      ],
      "metadata": {
        "id": "tsrrIqHeQxm6"
      },
      "execution_count": null,
      "outputs": []
    }
  ]
}