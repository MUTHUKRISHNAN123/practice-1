{
  "nbformat": 4,
  "nbformat_minor": 0,
  "metadata": {
    "colab": {
      "provenance": [],
      "authorship_tag": "ABX9TyOACTg29xLeZnmlDCx5GTDM",
      "include_colab_link": true
    },
    "kernelspec": {
      "name": "python3",
      "display_name": "Python 3"
    },
    "language_info": {
      "name": "python"
    }
  },
  "cells": [
    {
      "cell_type": "markdown",
      "metadata": {
        "id": "view-in-github",
        "colab_type": "text"
      },
      "source": [
        "<a href=\"https://colab.research.google.com/github/MUTHUKRISHNAN123/practice-1/blob/main/66_Plus_One.ipynb\" target=\"_parent\"><img src=\"https://colab.research.google.com/assets/colab-badge.svg\" alt=\"Open In Colab\"/></a>"
      ]
    },
    {
      "cell_type": "markdown",
      "source": [
        "You are given a large integer represented as an integer array digits, where each digits[i] is the ith digit of the integer. The digits are ordered from most significant to least significant in left-to-right order. The large integer does not contain any leading 0's.\n",
        "\n",
        "Increment the large integer by one and return the resulting array of digits."
      ],
      "metadata": {
        "id": "jO2yZrB_qfL8"
      }
    },
    {
      "cell_type": "markdown",
      "source": [
        "Suppose you have a division of two integers:\n",
        "\n",
        "101 / 4\n",
        "\n",
        "In this division, 101 is called a numerator (N) and 4 is called a denominator (D).\n",
        "\n",
        "The integer division 101 / 4 returns 25 with the remainder 1. In other words:\n",
        "\n",
        "101 / 4 = 25 with remainder 1\n",
        "\n",
        "Code language: plaintext (plaintext)\n",
        "Or put it in another way:\n",
        "\n",
        "101 = 4 * 25 + 1\n",
        "\n",
        "Code language: plaintext (plaintext)\n",
        "Python uses two operators // and % that returns the result of the division:\n",
        "\n",
        "101 // 4 = 25\n",
        "\n",
        "101 % 4 = 1\n",
        "\n",
        "\n",
        "Code language: plaintext (plaintext)\n",
        "The // is called the floor division operator or div. And the % is called the modulo operator or mod."
      ],
      "metadata": {
        "id": "_0SL56w5x8v_"
      }
    },
    {
      "cell_type": "code",
      "source": [
        "s = [9,9,9,9]\n",
        "r=s[::-1]\n",
        "x=1\n",
        "a=[]\n",
        "for i in range(len(r)):\n",
        "  a.append((r[i]+x)%10)\n",
        "  x=(r[i]+x)//10\n",
        "if x:\n",
        "  a.append(x)\n",
        "print(a[::-1])\n"
      ],
      "metadata": {
        "colab": {
          "base_uri": "https://localhost:8080/"
        },
        "id": "mDnXyRg2qfZY",
        "outputId": "363cfdba-8edc-43de-f177-c6d90e44abee"
      },
      "execution_count": 19,
      "outputs": [
        {
          "output_type": "stream",
          "name": "stdout",
          "text": [
            "[1, 0, 0, 0, 0]\n"
          ]
        }
      ]
    },
    {
      "cell_type": "markdown",
      "source": [
        "a mod b\n",
        "\n",
        "if a<b\n",
        "\n",
        "the a mod b = a\n"
      ],
      "metadata": {
        "id": "e9ytEGQh1g6B"
      }
    }
  ]
}