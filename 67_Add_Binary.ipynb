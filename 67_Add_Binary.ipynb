{
  "nbformat": 4,
  "nbformat_minor": 0,
  "metadata": {
    "colab": {
      "provenance": [],
      "authorship_tag": "ABX9TyM9hMOyXZmx6l/DzMeVMo+2",
      "include_colab_link": true
    },
    "kernelspec": {
      "name": "python3",
      "display_name": "Python 3"
    },
    "language_info": {
      "name": "python"
    }
  },
  "cells": [
    {
      "cell_type": "markdown",
      "metadata": {
        "id": "view-in-github",
        "colab_type": "text"
      },
      "source": [
        "<a href=\"https://colab.research.google.com/github/MUTHUKRISHNAN123/practice-1/blob/main/67_Add_Binary.ipynb\" target=\"_parent\"><img src=\"https://colab.research.google.com/assets/colab-badge.svg\" alt=\"Open In Colab\"/></a>"
      ]
    },
    {
      "cell_type": "markdown",
      "source": [
        "Given two binary strings a and b, return their sum as a binary string."
      ],
      "metadata": {
        "id": "LmDHJn5lRv3Z"
      }
    },
    {
      "cell_type": "code",
      "source": [
        "a = \"11\"\n",
        "b = \"1\"\n",
        "s=[]\n",
        "i=len(a)-1\n",
        "j=len(b)-1\n",
        "c=0\n",
        "while i>=0 or j>=0 or c:\n",
        "  if i>=0:\n",
        "    c+=int(a[i])\n",
        "    i-=1\n",
        "  if j>=0:\n",
        "    c+=int(b[j])\n",
        "    j-=1\n",
        "  s.append(str(c%2))\n",
        "  c//=2\n",
        "print(''.join(reversed(s)))"
      ],
      "metadata": {
        "colab": {
          "base_uri": "https://localhost:8080/"
        },
        "id": "lnvUitO0RwF5",
        "outputId": "0ab9ca57-a002-4d71-adf7-b0ddef8e96ba"
      },
      "execution_count": 12,
      "outputs": [
        {
          "output_type": "stream",
          "name": "stdout",
          "text": [
            "100\n"
          ]
        }
      ]
    },
    {
      "cell_type": "code",
      "source": [
        "a = \"1010\"\n",
        "b = \"1011\"\n",
        "s = []\n",
        "carry = 0\n",
        "i = len(a) - 1\n",
        "j = len(b) - 1\n",
        "\n",
        "while i >= 0 or j >= 0 or carry:\n",
        "    if i >= 0:\n",
        "      carry += int(a[i])\n",
        "      i -= 1\n",
        "      print(carry,i,a[i])\n",
        "    if j >= 0:\n",
        "      carry += int(b[j])\n",
        "      j -= 1\n",
        "      print(carry,j,b[j])\n",
        "    s.append(str(carry % 2))\n",
        "    carry //= 2\n",
        "    print(s,carry)\n",
        "\n",
        "print(''.join(reversed(s))) "
      ],
      "metadata": {
        "colab": {
          "base_uri": "https://localhost:8080/"
        },
        "id": "9k0_eogMWla3",
        "outputId": "a66fe5c2-5bb0-42e4-853b-35bdda160ce7"
      },
      "execution_count": 5,
      "outputs": [
        {
          "output_type": "stream",
          "name": "stdout",
          "text": [
            "0 2 1\n",
            "1 2 1\n",
            "['1'] 0\n",
            "1 1 0\n",
            "2 1 0\n",
            "['1', '0'] 1\n",
            "1 0 1\n",
            "1 0 1\n",
            "['1', '0', '1'] 0\n",
            "1 -1 0\n",
            "2 -1 1\n",
            "['1', '0', '1', '0'] 1\n",
            "['1', '0', '1', '0', '1'] 0\n",
            "10101\n"
          ]
        }
      ]
    }
  ]
}