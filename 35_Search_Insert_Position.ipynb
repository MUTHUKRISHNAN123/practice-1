{
  "nbformat": 4,
  "nbformat_minor": 0,
  "metadata": {
    "colab": {
      "provenance": [],
      "authorship_tag": "ABX9TyN4pRCc+QIbZXP1FNEMbtOq",
      "include_colab_link": true
    },
    "kernelspec": {
      "name": "python3",
      "display_name": "Python 3"
    },
    "language_info": {
      "name": "python"
    }
  },
  "cells": [
    {
      "cell_type": "markdown",
      "metadata": {
        "id": "view-in-github",
        "colab_type": "text"
      },
      "source": [
        "<a href=\"https://colab.research.google.com/github/MUTHUKRISHNAN123/practice-1/blob/main/35_Search_Insert_Position.ipynb\" target=\"_parent\"><img src=\"https://colab.research.google.com/assets/colab-badge.svg\" alt=\"Open In Colab\"/></a>"
      ]
    },
    {
      "cell_type": "markdown",
      "source": [
        "Given a sorted array of distinct integers and a target value, return the index if the target is found. If not, return the index where it would be if it were inserted in order.\n",
        "\n",
        "You must write an algorithm with O(log n) runtime complexity."
      ],
      "metadata": {
        "id": "XXB-mQd0ZdB9"
      }
    },
    {
      "cell_type": "code",
      "source": [
        "nums = [1,3,5,6,9,45]\n",
        "target = 90\n",
        "l=0\n",
        "r=len(nums)\n",
        "\n",
        "while l<r:\n",
        "  mid=(l+r)//2\n",
        "  print(mid)\n",
        "  if target<=nums[mid]:\n",
        "    r=mid\n",
        "    print(r)\n",
        "  else:\n",
        "    l=mid+1\n",
        "    print(l)\n",
        "print(r)"
      ],
      "metadata": {
        "colab": {
          "base_uri": "https://localhost:8080/"
        },
        "id": "elVAzmJ3hBiy",
        "outputId": "218838ba-955a-42b2-94b2-75a0b40b6a7c"
      },
      "execution_count": 31,
      "outputs": [
        {
          "output_type": "stream",
          "name": "stdout",
          "text": [
            "3\n",
            "4\n",
            "5\n",
            "6\n",
            "6\n"
          ]
        }
      ]
    }
  ]
}