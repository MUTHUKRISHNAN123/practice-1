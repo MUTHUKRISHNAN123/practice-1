{
  "nbformat": 4,
  "nbformat_minor": 0,
  "metadata": {
    "colab": {
      "provenance": [],
      "authorship_tag": "ABX9TyMv1ewZPx9/4EGu2BjWBm2W",
      "include_colab_link": true
    },
    "kernelspec": {
      "name": "python3",
      "display_name": "Python 3"
    },
    "language_info": {
      "name": "python"
    }
  },
  "cells": [
    {
      "cell_type": "markdown",
      "metadata": {
        "id": "view-in-github",
        "colab_type": "text"
      },
      "source": [
        "<a href=\"https://colab.research.google.com/github/MUTHUKRISHNAN123/practice-1/blob/main/58_Length_of_Last_Word.ipynb\" target=\"_parent\"><img src=\"https://colab.research.google.com/assets/colab-badge.svg\" alt=\"Open In Colab\"/></a>"
      ]
    },
    {
      "cell_type": "markdown",
      "source": [
        "Given a string s consisting of words and spaces, return the length of the last word in the string.\n",
        "\n",
        "A word is a maximal \n",
        "substring\n",
        " consisting of non-space characters only."
      ],
      "metadata": {
        "id": "F3_xMqxCkUdm"
      }
    },
    {
      "cell_type": "code",
      "source": [
        "s=\"   fly me   to   the moon  \"\n",
        "a=s.split(' ')\n",
        "print(a)\n",
        "while '' in a:\n",
        "  a.remove('')\n",
        "print(a)\n"
      ],
      "metadata": {
        "colab": {
          "base_uri": "https://localhost:8080/"
        },
        "id": "qurBvmjdkUtP",
        "outputId": "0b299b78-54b0-4878-a1c9-2e6596b63bdc"
      },
      "execution_count": 15,
      "outputs": [
        {
          "output_type": "stream",
          "name": "stdout",
          "text": [
            "['', '', '', 'fly', 'me', '', '', 'to', '', '', 'the', 'moon', '', '']\n",
            "['fly', 'me', 'to', 'the', 'moon']\n"
          ]
        }
      ]
    }
  ]
}