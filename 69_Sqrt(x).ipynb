{
  "nbformat": 4,
  "nbformat_minor": 0,
  "metadata": {
    "colab": {
      "provenance": [],
      "authorship_tag": "ABX9TyOXe3htsgIjSNwZ5uTAwish",
      "include_colab_link": true
    },
    "kernelspec": {
      "name": "python3",
      "display_name": "Python 3"
    },
    "language_info": {
      "name": "python"
    }
  },
  "cells": [
    {
      "cell_type": "markdown",
      "metadata": {
        "id": "view-in-github",
        "colab_type": "text"
      },
      "source": [
        "<a href=\"https://colab.research.google.com/github/MUTHUKRISHNAN123/practice-1/blob/main/69_Sqrt(x).ipynb\" target=\"_parent\"><img src=\"https://colab.research.google.com/assets/colab-badge.svg\" alt=\"Open In Colab\"/></a>"
      ]
    },
    {
      "cell_type": "markdown",
      "source": [
        "Given a non-negative integer x, return the square root of x rounded down to the nearest integer. The returned integer should be non-negative as well.\n",
        "\n",
        "You must not use any built-in exponent function or operator.\n",
        "\n",
        "For example, do not use pow(x, 0.5) in c++ or x ** 0.5 in python."
      ],
      "metadata": {
        "id": "2DtPUPSp97Tg"
      }
    },
    {
      "cell_type": "code",
      "source": [
        "x=125\n",
        "res=x/2\n",
        "temp=0\n",
        "while res!=temp:\n",
        "  temp=res\n",
        "  res=(x/temp+temp)/2\n",
        "  print(temp,res)\n",
        "print(res)"
      ],
      "metadata": {
        "colab": {
          "base_uri": "https://localhost:8080/"
        },
        "id": "AI73rbdyFVCp",
        "outputId": "af9593da-aed7-4237-b2c9-64a3384241d0"
      },
      "execution_count": 13,
      "outputs": [
        {
          "output_type": "stream",
          "name": "stdout",
          "text": [
            "62.5 32.25\n",
            "32.25 18.06298449612403\n",
            "18.06298449612403 12.491607048770131\n",
            "12.491607048770131 11.249162960523707\n",
            "11.249162960523707 11.180550419402397\n",
            "11.180550419402397 11.180339889481125\n",
            "11.180339889481125 11.180339887498949\n",
            "11.180339887498949 11.180339887498949\n",
            "11.180339887498949\n"
          ]
        }
      ]
    },
    {
      "cell_type": "code",
      "source": [
        "from math import sqrt\n",
        "x = 8\n",
        "a=sqrt(x)\n",
        "print(a//1)"
      ],
      "metadata": {
        "colab": {
          "base_uri": "https://localhost:8080/"
        },
        "id": "NkS1Erqh97iE",
        "outputId": "bc2bbdbd-3c60-43b2-9b88-b2c1c16947dc"
      },
      "execution_count": 3,
      "outputs": [
        {
          "output_type": "stream",
          "name": "stdout",
          "text": [
            "2.0\n"
          ]
        }
      ]
    },
    {
      "cell_type": "code",
      "source": [
        "def sqrrt(n):\n",
        "  sqn=n/2\n",
        "  temp=0\n",
        "  while sqn!=temp:\n",
        "    temp=sqn\n",
        "    sqn=(n/temp+temp)/2\n",
        "  return sqn\n",
        "a=sqrrt(64)\n",
        "print(a)"
      ],
      "metadata": {
        "colab": {
          "base_uri": "https://localhost:8080/"
        },
        "id": "IJswRrTcBs87",
        "outputId": "e6638f29-e23c-430c-da1f-b8545e0b3e93"
      },
      "execution_count": 10,
      "outputs": [
        {
          "output_type": "stream",
          "name": "stdout",
          "text": [
            "8.0\n"
          ]
        }
      ]
    },
    {
      "cell_type": "code",
      "source": [
        "def findSqrt(n):\n",
        "    sqrtNum = n / 2\n",
        "    temp = 0\n",
        "\n",
        "    while sqrtNum != temp:\n",
        "        temp = sqrtNum\n",
        "        sqrtNum = (n / temp + temp) / 2\n",
        "        print(temp,sqrtNum)\n",
        "\n",
        "    return sqrtNum\n",
        "print(findSqrt(104976))"
      ],
      "metadata": {
        "colab": {
          "base_uri": "https://localhost:8080/"
        },
        "id": "-3jT1deJCp8-",
        "outputId": "1504025f-a828-444b-e04d-45cf0a751ad0"
      },
      "execution_count": 12,
      "outputs": [
        {
          "output_type": "stream",
          "name": "stdout",
          "text": [
            "52488.0 26245.0\n",
            "26245.0 13124.499923795009\n",
            "13124.499923795009 6566.249199986937\n",
            "6566.249199986937 3291.1182046224408\n",
            "3291.1182046224408 1661.5074811711104\n",
            "1661.5074811711104 862.3443296107722\n",
            "862.3443296107722 492.0388026409836\n",
            "492.0388026409836 352.6939150341956\n",
            "352.6939150341956 325.16721713204186\n",
            "325.16721713204186 324.0020949157257\n",
            "324.0020949157257 324.0000000067726\n",
            "324.0000000067726 324.0\n",
            "324.0 324.0\n",
            "324.0\n"
          ]
        }
      ]
    }
  ]
}