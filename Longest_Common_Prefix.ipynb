{
  "nbformat": 4,
  "nbformat_minor": 0,
  "metadata": {
    "colab": {
      "provenance": [],
      "authorship_tag": "ABX9TyMC9sIxJgS+R4gj/mdlBRQv",
      "include_colab_link": true
    },
    "kernelspec": {
      "name": "python3",
      "display_name": "Python 3"
    },
    "language_info": {
      "name": "python"
    }
  },
  "cells": [
    {
      "cell_type": "markdown",
      "metadata": {
        "id": "view-in-github",
        "colab_type": "text"
      },
      "source": [
        "<a href=\"https://colab.research.google.com/github/MUTHUKRISHNAN123/practice-1/blob/main/Longest_Common_Prefix.ipynb\" target=\"_parent\"><img src=\"https://colab.research.google.com/assets/colab-badge.svg\" alt=\"Open In Colab\"/></a>"
      ]
    },
    {
      "cell_type": "markdown",
      "source": [
        "Write a function to find the longest common prefix string amongst an array of strings.\n",
        "\n",
        "If there is no common prefix, return an empty string \"\".\n"
      ],
      "metadata": {
        "id": "TxwneQASbPV0"
      }
    },
    {
      "cell_type": "code",
      "source": [
        "s = [\"flower\",\"flow\",\"flight\"]\n",
        "a=s[0]\n",
        "z=''\n",
        "for i in s[1:]:\n",
        "  while(i[:len(a)]!=a):\n",
        "    a=a[:len(a)-1]\n",
        "    print(a)\n",
        "  if not a:\n",
        "    break\n",
        "z=a\n",
        "if a=='':\n",
        "  print('\\'\\'')\n",
        "else:\n",
        "  print(z)"
      ],
      "metadata": {
        "colab": {
          "base_uri": "https://localhost:8080/"
        },
        "id": "7cHfgh7JbVdH",
        "outputId": "85717608-8032-4102-ebf9-4da6e56aae6a"
      },
      "execution_count": 5,
      "outputs": [
        {
          "output_type": "stream",
          "name": "stdout",
          "text": [
            "flowe\n",
            "flow\n",
            "flo\n",
            "fl\n",
            "fl\n"
          ]
        }
      ]
    },
    {
      "cell_type": "code",
      "source": [
        "a=10\n",
        "if a:\n",
        "  print('t')\n",
        "else:\n",
        "  print('f')"
      ],
      "metadata": {
        "colab": {
          "base_uri": "https://localhost:8080/"
        },
        "id": "zeaCeQ4HcRfM",
        "outputId": "dcd8bf58-15e5-423a-90d5-08a984413eb5"
      },
      "execution_count": 3,
      "outputs": [
        {
          "output_type": "stream",
          "name": "stdout",
          "text": [
            "t\n"
          ]
        }
      ]
    }
  ]
}