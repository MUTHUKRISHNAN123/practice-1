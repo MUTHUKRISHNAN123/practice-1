{
  "nbformat": 4,
  "nbformat_minor": 0,
  "metadata": {
    "colab": {
      "provenance": [],
      "authorship_tag": "ABX9TyMfDVNVm1a7trB/bkh4TRxU",
      "include_colab_link": true
    },
    "kernelspec": {
      "name": "python3",
      "display_name": "Python 3"
    },
    "language_info": {
      "name": "python"
    }
  },
  "cells": [
    {
      "cell_type": "markdown",
      "metadata": {
        "id": "view-in-github",
        "colab_type": "text"
      },
      "source": [
        "<a href=\"https://colab.research.google.com/github/MUTHUKRISHNAN123/practice-1/blob/main/169_Majority_Element.ipynb\" target=\"_parent\"><img src=\"https://colab.research.google.com/assets/colab-badge.svg\" alt=\"Open In Colab\"/></a>"
      ]
    },
    {
      "cell_type": "markdown",
      "source": [
        "Given an array nums of size n, return the majority element.\n",
        "\n",
        "The majority element is the element that appears more than ⌊n / 2⌋ times. You may assume that the majority element always exists in the array."
      ],
      "metadata": {
        "id": "RiW9wigt6aRQ"
      }
    },
    {
      "cell_type": "code",
      "source": [
        "\n",
        "s = [2,2,1,1,1,2,2]\n",
        "a=set(s)\n",
        "print(a)\n",
        "b=list(a)\n",
        "x=[]\n",
        "z=dict()\n",
        "for i in range(len(b)):\n",
        "  x.append(s.count(b[i]))\n",
        "  z.update({s.count(b[i]):b[i]})\n",
        "\n",
        "print(z)\n",
        "ans=max(z.keys())\n",
        "print(ans)\n",
        "d=len(s)/2\n",
        "print(d)\n",
        "if ans>d:\n",
        "  print(z[ans])\n",
        "\n",
        "\n",
        "\n",
        "\n",
        "  "
      ],
      "metadata": {
        "colab": {
          "base_uri": "https://localhost:8080/"
        },
        "id": "WYvkJbeKzcpI",
        "outputId": "8800f1d6-41e0-4244-a234-7aa8bbf1d654"
      },
      "execution_count": 30,
      "outputs": [
        {
          "output_type": "stream",
          "name": "stdout",
          "text": [
            "{1, 2}\n",
            "{3: 1, 4: 2}\n",
            "4\n",
            "3.5\n",
            "2\n"
          ]
        }
      ]
    },
    {
      "cell_type": "code",
      "source": [
        "s = [2,2,1,1,1,2,2]\n",
        "a=set(s)\n",
        "print(a)"
      ],
      "metadata": {
        "id": "ghCVHhVjz9x2"
      },
      "execution_count": null,
      "outputs": []
    }
  ]
}