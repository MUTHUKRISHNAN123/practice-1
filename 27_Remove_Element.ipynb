{
  "nbformat": 4,
  "nbformat_minor": 0,
  "metadata": {
    "colab": {
      "provenance": [],
      "authorship_tag": "ABX9TyNyzoz5/0WoDXbi9f8q2sEm",
      "include_colab_link": true
    },
    "kernelspec": {
      "name": "python3",
      "display_name": "Python 3"
    },
    "language_info": {
      "name": "python"
    }
  },
  "cells": [
    {
      "cell_type": "markdown",
      "metadata": {
        "id": "view-in-github",
        "colab_type": "text"
      },
      "source": [
        "<a href=\"https://colab.research.google.com/github/MUTHUKRISHNAN123/practice-1/blob/main/27_Remove_Element.ipynb\" target=\"_parent\"><img src=\"https://colab.research.google.com/assets/colab-badge.svg\" alt=\"Open In Colab\"/></a>"
      ]
    },
    {
      "cell_type": "markdown",
      "source": [
        "Given an integer array nums and an integer val, remove all occurrences of val in nums in-place. The order of the elements may be changed. Then return the number of elements in nums which are not equal to val.\n",
        "\n",
        "Consider the number of elements in nums which are not equal to val be k, to get accepted, you need to do the following things:\n",
        "\n",
        "Change the array nums such that the first k elements of nums contain the elements which are not equal to val. The remaining elements of nums are not important as well as the size of nums.\n",
        "Return k."
      ],
      "metadata": {
        "id": "PDYIFfgks7WC"
      }
    },
    {
      "cell_type": "code",
      "source": [
        "nums = [0,1,2,2,3,0,4,2]\n",
        "val = 2\n",
        "for i in nums[:]:\n",
        "  if i==val:\n",
        "    nums.remove(i)\n",
        "print(nums)\n",
        "print(len(nums))\n",
        "\n",
        "\n"
      ],
      "metadata": {
        "colab": {
          "base_uri": "https://localhost:8080/"
        },
        "id": "sxHGU8N3s7tu",
        "outputId": "60ec324f-26b9-453f-f946-63c5f9cbbfbe"
      },
      "execution_count": 32,
      "outputs": [
        {
          "output_type": "stream",
          "name": "stdout",
          "text": [
            "[0, 1, 3, 0, 4]\n",
            "5\n"
          ]
        }
      ]
    },
    {
      "cell_type": "code",
      "source": [
        "nums=[3,2,2,3]\n",
        "val=3\n",
        "while nums.__contains__(val):\n",
        "  nums.remove(val)\n",
        "print(nums)\n",
        "print(len(nums))"
      ],
      "metadata": {
        "colab": {
          "base_uri": "https://localhost:8080/"
        },
        "id": "PKY9GJnFzZtO",
        "outputId": "bba96796-47a6-4842-abd5-76f151d1a2a0"
      },
      "execution_count": 22,
      "outputs": [
        {
          "output_type": "stream",
          "name": "stdout",
          "text": [
            "[2, 2]\n",
            "2\n"
          ]
        }
      ]
    }
  ]
}