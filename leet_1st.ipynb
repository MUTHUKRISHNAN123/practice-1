{
  "nbformat": 4,
  "nbformat_minor": 0,
  "metadata": {
    "colab": {
      "provenance": [],
      "authorship_tag": "ABX9TyPwRRi/7gclUkN7YKY5AlAI",
      "include_colab_link": true
    },
    "kernelspec": {
      "name": "python3",
      "display_name": "Python 3"
    },
    "language_info": {
      "name": "python"
    }
  },
  "cells": [
    {
      "cell_type": "markdown",
      "metadata": {
        "id": "view-in-github",
        "colab_type": "text"
      },
      "source": [
        "<a href=\"https://colab.research.google.com/github/MUTHUKRISHNAN123/practice-1/blob/main/leet_1st.ipynb\" target=\"_parent\"><img src=\"https://colab.research.google.com/assets/colab-badge.svg\" alt=\"Open In Colab\"/></a>"
      ]
    },
    {
      "cell_type": "code",
      "execution_count": 21,
      "metadata": {
        "colab": {
          "base_uri": "https://localhost:8080/"
        },
        "id": "uDZFQ-_z3RxK",
        "outputId": "1a9cea8f-d802-4087-bcda-c340616dfcd9"
      },
      "outputs": [
        {
          "output_type": "stream",
          "name": "stdout",
          "text": [
            "2 7\n",
            "2 11\n",
            "2 15\n",
            "7 11\n",
            "7 15\n",
            "11 15\n",
            "[0, 1]\n"
          ]
        }
      ],
      "source": [
        "nums = [2,7,11,15]\n",
        "target = 9\n",
        "a=[]\n",
        "for i in range(len(nums)):\n",
        "  for j in range(i+1,len(nums)):\n",
        "    print(nums[i],nums[j])\n",
        "    if(nums[i]+nums[j]==target):\n",
        "      a.append(i)\n",
        "      a.append(j)\n",
        "print(a)\n",
        "    "
      ]
    },
    {
      "cell_type": "markdown",
      "source": [
        "Given an array of integers nums and an integer target, return indices of the two numbers such that they add up to target.\n",
        "\n",
        "You may assume that each input would have exactly one solution, and you may not use the same element twice.\n",
        "\n",
        "You can return the answer in any order."
      ],
      "metadata": {
        "id": "ckqpYWADAzmR"
      }
    },
    {
      "cell_type": "code",
      "source": [
        "class Solution(object):\n",
        "    def twoSum(self, nums, target):\n",
        "        a=[]\n",
        "        for i in range(len(nums)):\n",
        "            for j in range(i+1,len(nums)):\n",
        "                if(nums[i]+nums[j]==target):\n",
        "                    a.append(i)\n",
        "                    a.append(j)\n",
        "        return a\n",
        "        "
      ],
      "metadata": {
        "id": "hox1ZjWKAiMY"
      },
      "execution_count": null,
      "outputs": []
    }
  ]
}