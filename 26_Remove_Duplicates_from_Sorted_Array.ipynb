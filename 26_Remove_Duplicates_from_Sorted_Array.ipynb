{
  "nbformat": 4,
  "nbformat_minor": 0,
  "metadata": {
    "colab": {
      "provenance": [],
      "authorship_tag": "ABX9TyOgGpeSTaDDqn5tvVr49U3l",
      "include_colab_link": true
    },
    "kernelspec": {
      "name": "python3",
      "display_name": "Python 3"
    },
    "language_info": {
      "name": "python"
    }
  },
  "cells": [
    {
      "cell_type": "markdown",
      "metadata": {
        "id": "view-in-github",
        "colab_type": "text"
      },
      "source": [
        "<a href=\"https://colab.research.google.com/github/MUTHUKRISHNAN123/practice-1/blob/main/26_Remove_Duplicates_from_Sorted_Array.ipynb\" target=\"_parent\"><img src=\"https://colab.research.google.com/assets/colab-badge.svg\" alt=\"Open In Colab\"/></a>"
      ]
    },
    {
      "cell_type": "markdown",
      "source": [
        "Given an integer array nums sorted in non-decreasing order, remove the duplicates in-place such that each unique element appears only once. The relative order of the elements should be kept the same. Then return the number of unique elements in nums.\n",
        "\n",
        "Consider the number of unique elements of nums be k, to get accepted, you need to do the following things:\n",
        "\n",
        "Change the array nums such that the first k elements of nums contain the unique elements in the order they were present in nums initially. The remaining elements of nums are not important as well as the size of nums.\n",
        "Return k."
      ],
      "metadata": {
        "id": "ODZlAiUlbNAA"
      }
    },
    {
      "cell_type": "code",
      "source": [
        "nums = [0,0,1,1,1,2,2,3,3,4]\n",
        "a=set(nums)\n",
        "m=list(a)\n",
        "k=1\n",
        "for i in range(1,len(nums)):\n",
        "  if nums[i]!=nums[i-1]:\n",
        "    nums[k]=nums[i]\n",
        "    k+=1\n",
        "print(k,m)"
      ],
      "metadata": {
        "colab": {
          "base_uri": "https://localhost:8080/"
        },
        "id": "TgjuDAw1bNrS",
        "outputId": "e6712ebc-d0b4-4323-d0a9-aad3c2073d38"
      },
      "execution_count": 32,
      "outputs": [
        {
          "output_type": "stream",
          "name": "stdout",
          "text": [
            "5 [0, 1, 2, 3, 4]\n"
          ]
        }
      ]
    }
  ]
}