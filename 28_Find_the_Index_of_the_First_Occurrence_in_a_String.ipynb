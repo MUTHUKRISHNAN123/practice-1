{
  "nbformat": 4,
  "nbformat_minor": 0,
  "metadata": {
    "colab": {
      "provenance": [],
      "authorship_tag": "ABX9TyPE9beNE+TXs3+0O/dttYxH",
      "include_colab_link": true
    },
    "kernelspec": {
      "name": "python3",
      "display_name": "Python 3"
    },
    "language_info": {
      "name": "python"
    }
  },
  "cells": [
    {
      "cell_type": "markdown",
      "metadata": {
        "id": "view-in-github",
        "colab_type": "text"
      },
      "source": [
        "<a href=\"https://colab.research.google.com/github/MUTHUKRISHNAN123/practice-1/blob/main/28_Find_the_Index_of_the_First_Occurrence_in_a_String.ipynb\" target=\"_parent\"><img src=\"https://colab.research.google.com/assets/colab-badge.svg\" alt=\"Open In Colab\"/></a>"
      ]
    },
    {
      "cell_type": "markdown",
      "source": [
        "Given two strings needle and haystack, return the index of the first occurrence of needle in haystack, or -1 if needle is not part of haystack."
      ],
      "metadata": {
        "id": "3If44oBByzTj"
      }
    },
    {
      "cell_type": "code",
      "source": [
        "a = \"sadbutsad\"\n",
        "b = \"sad\"\n",
        "c=[]\n",
        "d=[]\n",
        "for i in range(len(a)-len(b)+1):\n",
        "  c.append(a[i:i+len(b)])\n",
        "  d.append(i)\n",
        "print(c)\n",
        "print(d)\n",
        "z=a.find(b)\n",
        "print(z)"
      ],
      "metadata": {
        "colab": {
          "base_uri": "https://localhost:8080/"
        },
        "id": "hBCKGnTayzkQ",
        "outputId": "ef60b249-979b-4065-921b-5fa00326224e"
      },
      "execution_count": 6,
      "outputs": [
        {
          "output_type": "stream",
          "name": "stdout",
          "text": [
            "['sad', 'adb', 'dbu', 'but', 'uts', 'tsa', 'sad']\n",
            "[0, 1, 2, 3, 4, 5, 6]\n",
            "0\n"
          ]
        }
      ]
    },
    {
      "cell_type": "code",
      "source": [
        "a = \"abc\"\n",
        "b = \"h\"\n",
        "c=[]\n",
        "i=a.find(b)\n",
        "while i!=-1:\n",
        "  c.append(i)\n",
        "  i=a.find(b,i+1)\n",
        "else:\n",
        "  c.append(-1)\n",
        "  \n",
        "print(c)\n"
      ],
      "metadata": {
        "colab": {
          "base_uri": "https://localhost:8080/"
        },
        "id": "w3htHDKw30GY",
        "outputId": "6c624ece-114d-4051-d73e-3cb3e12f0cd8"
      },
      "execution_count": 16,
      "outputs": [
        {
          "output_type": "stream",
          "name": "stdout",
          "text": [
            "[-1]\n"
          ]
        }
      ]
    },
    {
      "cell_type": "code",
      "source": [
        "a = \"sadbutsad\"\n",
        "b = \"sad\"\n",
        "c=[]\n",
        "i=a.find(b)\n",
        "c.append(i)\n",
        "if c[0]!=-1:\n",
        "  print(c[0])\n",
        "else:\n",
        "  print('-1')"
      ],
      "metadata": {
        "colab": {
          "base_uri": "https://localhost:8080/"
        },
        "id": "6j1A1PVF9BUC",
        "outputId": "2e59d702-22de-4ca0-b31d-721e889da24a"
      },
      "execution_count": 19,
      "outputs": [
        {
          "output_type": "stream",
          "name": "stdout",
          "text": [
            "0\n"
          ]
        }
      ]
    }
  ]
}