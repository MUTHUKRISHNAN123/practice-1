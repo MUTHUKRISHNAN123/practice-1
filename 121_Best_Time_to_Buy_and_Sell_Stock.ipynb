{
  "nbformat": 4,
  "nbformat_minor": 0,
  "metadata": {
    "colab": {
      "provenance": [],
      "authorship_tag": "ABX9TyMw7kHCro+qWheyJ62JORGE",
      "include_colab_link": true
    },
    "kernelspec": {
      "name": "python3",
      "display_name": "Python 3"
    },
    "language_info": {
      "name": "python"
    }
  },
  "cells": [
    {
      "cell_type": "markdown",
      "metadata": {
        "id": "view-in-github",
        "colab_type": "text"
      },
      "source": [
        "<a href=\"https://colab.research.google.com/github/MUTHUKRISHNAN123/practice-1/blob/main/121_Best_Time_to_Buy_and_Sell_Stock.ipynb\" target=\"_parent\"><img src=\"https://colab.research.google.com/assets/colab-badge.svg\" alt=\"Open In Colab\"/></a>"
      ]
    },
    {
      "cell_type": "markdown",
      "source": [
        "You are given an array prices where prices[i] is the price of a given stock on the ith day.\n",
        "\n",
        "You want to maximize your profit by choosing a single day to buy one stock and choosing a different day in the future to sell that stock.\n",
        "\n",
        "Return the maximum profit you can achieve from this transaction. If you cannot achieve any profit, return 0."
      ],
      "metadata": {
        "id": "RPn2HuQMYVrM"
      }
    },
    {
      "cell_type": "code",
      "source": [
        "import math\n",
        "pr = [7,1,5,3,6,4]\n",
        "ans=0\n",
        "i,j=0,1\n",
        "while j!=len(pr):\n",
        "  tem=pr[j]-pr[i]\n",
        "  if tem<0:\n",
        "    i=j\n",
        "  elif tem>0:\n",
        "    ans=max(tem,ans)\n",
        "  j+=1\n",
        "print(ans)"
      ],
      "metadata": {
        "id": "D318MzVqbB8g"
      },
      "execution_count": null,
      "outputs": []
    },
    {
      "cell_type": "code",
      "source": [
        "class Solution:\n",
        "    def maxProfit(self, prices: List[int]) -> int:\n",
        "        sol=0\n",
        "        i,j=0,1\n",
        "        while j!=len(prices):\n",
        "            temp=prices[j]-prices[i]\n",
        "            if temp<0:\n",
        "                i=j\n",
        "            # elif temp>=0:\n",
        "            else:\n",
        "                sol=max(sol,temp)\n",
        "            j+=1\n",
        "        return sol"
      ],
      "metadata": {
        "id": "5lUN5B5LiJcr"
      },
      "execution_count": null,
      "outputs": []
    },
    {
      "cell_type": "code",
      "source": [
        "ans=0\n",
        "i,j=0,1\n",
        "while j!=len(prices):\n",
        "  temp=prices[j]-prices[i]\n",
        "  if temp<0:\n",
        "    i=j\n",
        "  elif temp>0:\n",
        "    ans=max(temp,ans)\n",
        "  j+=1\n",
        "print(ans)"
      ],
      "metadata": {
        "id": "AvW8AWrMhHZh"
      },
      "execution_count": null,
      "outputs": []
    }
  ]
}